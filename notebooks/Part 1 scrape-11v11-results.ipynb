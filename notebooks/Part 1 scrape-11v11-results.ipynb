{
 "cells": [
  {
   "cell_type": "markdown",
   "metadata": {},
   "source": [
    "## Scrape historical results from 11v11"
   ]
  },
  {
   "cell_type": "code",
   "execution_count": 1,
   "metadata": {},
   "outputs": [],
   "source": [
    "from bs4 import BeautifulSoup\n",
    "import datetime as dt\n",
    "import pandas as pd\n",
    "from selenium import webdriver\n",
    "from selenium.webdriver.chrome.service import Service as BraveService\n",
    "from webdriver_manager.chrome import ChromeDriverManager\n",
    "from webdriver_manager.core.utils import ChromeType\n",
    "from urllib.parse import urljoin\n",
    "\n",
    "url = 'https://www.11v11.com/teams/tranmere-rovers/tab/matches/'\n",
    "\n",
    "options = webdriver.ChromeOptions()\n",
    "options.binary_location = \"/Applications/Brave Browser.app/Contents/MacOS/Brave Browser\"\n",
    "driver = webdriver.Chrome(options=options, service=BraveService(ChromeDriverManager(chrome_type=ChromeType.BRAVE).install()))\n",
    "\n",
    "driver.get(url)\n",
    "\n",
    "doc = BeautifulSoup(driver.page_source, 'lxml')\n",
    "\n",
    "seasons = doc.select('#season li a')\n",
    "\n",
    "results = []\n",
    "\n",
    "for season in seasons:\n",
    "    season_years = season.text\n",
    "    season_url = season['href']\n",
    "\n",
    "    driver.get(season_url)\n",
    "\n",
    "    doc = BeautifulSoup(driver.page_source, 'lxml')\n",
    "\n",
    "    season_title = doc.select_one('.seasonTitle')\n",
    "    matches = season_title.find_next_sibling('table').select(\"tbody tr\")\n",
    "\n",
    "    for match in matches:\n",
    "        season_years = season_years.replace('-', '/')\n",
    "\n",
    "        game_info = match.select('td')\n",
    "        \n",
    "        date = game_info[0].get_text().strip()\n",
    "        date = dt.datetime.strptime(date, '%d %b %Y')\n",
    "\n",
    "        teams = game_info[1].text.strip()\n",
    "        team_names = teams.split(' v ')\n",
    "        home_team = team_names[0]\n",
    "        away_team = team_names[1]\n",
    "\n",
    "        game_url = game_info[1].select_one('a')['href']\n",
    "        game_url = urljoin(season_url ,game_url)\n",
    "\n",
    "        outcome = game_info[2].text\n",
    "\n",
    "        score = game_info[3].get_text().strip().replace(' (', '(')\n",
    "        score = score.replace('Agg: ', ' ')\n",
    "        score = score.replace('(', ' (')\n",
    "        score = score.split(' ')\n",
    "        \n",
    "        primary_score = score[0].split('-')\n",
    "\n",
    "        home_goals = primary_score[0]\n",
    "        away_goals = primary_score[1]\n",
    "\n",
    "        try:\n",
    "            secondary_score = score[1].replace('(', ' (').strip()\n",
    "            secondary_score = secondary_score.replace(\"(\", \"\").replace(\")\", \"\")\n",
    "        except:\n",
    "            secondary_score = ''\n",
    "        \n",
    "        if home_team == 'Tranmere Rovers':\n",
    "            goals_for = home_goals\n",
    "            goals_against = away_goals\n",
    "            venue = 'H'\n",
    "            opposition = away_team\n",
    "        else:\n",
    "            goals_for = away_goals\n",
    "            goals_against = home_goals\n",
    "            venue = 'A'\n",
    "            opposition = home_team\n",
    "\n",
    "        score = f'{goals_for}-{goals_against}'\n",
    "\n",
    "        competition = game_info[4].text.strip()\n",
    "\n",
    "        driver.get(game_url)\n",
    "\n",
    "        doc = BeautifulSoup(driver.page_source, 'lxml')\n",
    "\n",
    "        game_panel = doc.select_one('.basicData')\n",
    "        rows = game_panel.select('tr')\n",
    "\n",
    "        # Intializing these outside loop to try and stop annoying error\n",
    "        stadium = 'Unknown'\n",
    "        attendance = ''\n",
    "        for row in rows:\n",
    "            columns = row.select('td')\n",
    "\n",
    "            column_title = columns[0].text.strip()\n",
    "            if column_title == 'Venue':\n",
    "                stadium = columns[1].text.strip()\n",
    "            else:\n",
    "                next\n",
    "                \n",
    "            if column_title == 'Attendance':\n",
    "                attendance = columns[1].text.strip()\n",
    "                attendance = attendance.replace(',', '')\n",
    "            else:\n",
    "                next\n",
    "        \n",
    "        game_record = {\n",
    "            'season': season_years,\n",
    "            'game_date': date,\n",
    "            'opposition': opposition,\n",
    "            'venue': venue,\n",
    "            'score': score,\n",
    "            'home_team': home_team,\n",
    "            'away_team': away_team,\n",
    "            'outcome': outcome,\n",
    "            'home_goals': home_goals,\n",
    "            'away_goals': away_goals,\n",
    "            'secondary_score': secondary_score,\n",
    "            'competition': competition,\n",
    "            'goals_for': goals_for,\n",
    "            'goals_against': goals_against,\n",
    "            'source_url': game_url,\n",
    "            'attendance': attendance,\n",
    "            'stadium': stadium\n",
    "            }\n",
    "\n",
    "        results.append(game_record)\n",
    "driver.quit()\n",
    "\n",
    "df = pd.DataFrame(results)\n",
    "df.game_date = pd.to_datetime(df.game_date)"
   ]
  },
  {
   "cell_type": "markdown",
   "metadata": {},
   "source": [
    "### Remove National League seasons to avoid duplicates with Soccerbase"
   ]
  },
  {
   "cell_type": "code",
   "execution_count": null,
   "metadata": {},
   "outputs": [],
   "source": [
    "nl_seasons = [\"2015/16\", \"2016/17\", \"2017/18\"]\n",
    "df = df[~df.season.isin(nl_seasons)]"
   ]
  },
  {
   "cell_type": "markdown",
   "metadata": {},
   "source": [
    "### Output dataframe to csv"
   ]
  },
  {
   "cell_type": "code",
   "execution_count": 29,
   "metadata": {},
   "outputs": [],
   "source": [
    "df.to_csv(\"../data/11v11_results.csv\", index=False)"
   ]
  },
  {
   "cell_type": "code",
   "execution_count": null,
   "metadata": {},
   "outputs": [],
   "source": []
  }
 ],
 "metadata": {
  "kernelspec": {
   "display_name": "lede_program",
   "language": "python",
   "name": "lede_program"
  },
  "language_info": {
   "codemirror_mode": {
    "name": "ipython",
    "version": 3
   },
   "file_extension": ".py",
   "mimetype": "text/x-python",
   "name": "python",
   "nbconvert_exporter": "python",
   "pygments_lexer": "ipython3",
   "version": "3.10.3"
  },
  "orig_nbformat": 4,
  "vscode": {
   "interpreter": {
    "hash": "138b44c4bbb43d7068f3ee17872f2356acbf191bd0a12eb6d4bde093c6a2c91f"
   }
  }
 },
 "nbformat": 4,
 "nbformat_minor": 2
}
