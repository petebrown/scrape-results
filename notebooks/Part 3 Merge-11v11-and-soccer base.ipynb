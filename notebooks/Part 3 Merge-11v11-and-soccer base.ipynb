{
 "cells": [
  {
   "cell_type": "markdown",
   "metadata": {},
   "source": [
    "# Combine results from 11v11 (Football League) and Soccerbase (Non-League)"
   ]
  },
  {
   "cell_type": "code",
   "execution_count": 1,
   "metadata": {},
   "outputs": [],
   "source": [
    "import pandas as pd\n",
    "\n",
    "# Import results from 11v11\n",
    "df_1 = pd.read_csv(\"../data/11v11_results.csv\", parse_dates=[\"game_date\"])\n",
    "df_1 = df_1[~df_1.season.isin([\"2015/16\", \"2016/17\", \"2017/18\"])]\n",
    "\n",
    "# Import National League results from Soccerbase\n",
    "df_2 = pd.read_csv(\"../data/soccerbase_nat_league_results.csv\", parse_dates=[\"game_date\"])\n",
    "\n",
    "# Import missing FA Cup results from Complete Record\n",
    "df_3 = pd.read_csv(\"../data/manual_fixtures.csv\", parse_dates=['game_date'])\n",
    "\n",
    "# Merge both datasets\n",
    "df = pd.concat([df_1, df_2, df_3]).sort_values(\"game_date\", ascending=False).reset_index(drop=True)"
   ]
  },
  {
   "cell_type": "markdown",
   "metadata": {},
   "source": [
    "### Add `league_tier`"
   ]
  },
  {
   "cell_type": "code",
   "execution_count": 2,
   "metadata": {},
   "outputs": [],
   "source": [
    "league_tier_map = {\n",
    "        'National League': 5,\n",
    "        'Football Conference Play-off': 5,\n",
    "        'League Two': 4,\n",
    "        'League Two Play-Offs': 4,\n",
    "        'League Division Four': 4,\n",
    "        'League One': 3,\n",
    "        'League One Play-Offs': 3,\n",
    "        'League Division 2': 3,\n",
    "        'League Division Three': 3,\n",
    "        'League Division Three Play-Offs': 3,\n",
    "        'Division Three (North)': 3,\n",
    "        'League Division 1': 2,\n",
    "        'League Division 1 Play-Offs': 2,\n",
    "        'League Division Two': 2,\n",
    "    }\n",
    "\n",
    "df['league_tier'] = df.competition.map(league_tier_map)"
   ]
  },
  {
   "cell_type": "markdown",
   "metadata": {},
   "source": [
    "### Add `generic_comps_map`"
   ]
  },
  {
   "cell_type": "code",
   "execution_count": 3,
   "metadata": {},
   "outputs": [],
   "source": [
    "generic_comps_map = {\n",
    "    \"Anglo-Italian Cup\": \"Anglo-Italian Cup\",\n",
    "    'Associate Members Cup': \"Associate Members' Cup\",\n",
    "    'Freight Rover Trophy': \"Associate Members' Cup\", \n",
    "    'Sherpa Vans Trophy': \"Associate Members' Cup\", \n",
    "    'Leyland Daf Cup': \"Associate Members' Cup\", \n",
    "    'LDV Vans Trophy': \"Associate Members' Cup\", \n",
    "    'Johnstones Paint Trophy': \"Associate Members' Cup\",\n",
    "    'Football League Trophy': \"Associate Members' Cup\",\n",
    "    \"FA Cup\": \"FA Cup\",\n",
    "    \"FA Trophy\": \"FA Trophy\",\n",
    "    \"Zenith Data Systems Cup\": \"Full Members' Cup\",\n",
    "    \"Division Three (North)\": \"Football League\",\n",
    "    \"League Division 1\": \"Football League\",\n",
    "    \"League Division 1 Play-Offs\": \"Football League\",\n",
    "    \"League Division 2\": \"Football League\",\n",
    "    \"League Division Four\": \"Football League\",\n",
    "    \"League Division Three\": \"Football League\",\n",
    "    \"League Division Three Play-Offs\": \"Football League\",\n",
    "    \"League Division Two\": \"Football League\",\n",
    "    \"League One\": \"Football League\",\n",
    "    \"League One Play-Offs\": \"Football League\",\n",
    "    \"League Two\": \"Football League\",\n",
    "    \"League Two Play-Offs\": \"Football League\",\n",
    "    \"League Cup\": \"League Cup\",\n",
    "    \"Football Conference Play-off\": \"Non-League\",\n",
    "    \"National League\": \"Non-League\",\n",
    "    \"North Region War League\": \"War League\",\n",
    "    \"North Region War League (Second Championship)\": \"War League\",\n",
    "    \"West Region War League\": \"War League\"\n",
    "}\n",
    "\n",
    "df['generic_comp'] = df.competition.map(generic_comps_map)"
   ]
  },
  {
   "cell_type": "markdown",
   "metadata": {},
   "source": [
    "### Add `game_type`"
   ]
  },
  {
   "cell_type": "code",
   "execution_count": 4,
   "metadata": {},
   "outputs": [],
   "source": [
    "df.loc[(df.generic_comp.isin([\"Football League\", \"Non-League\"])), \"game_type\"] = \"League\"\n",
    "df.loc[((df.league_tier.isna()) & (~df.competition.str.contains(\"War League\"))), \"game_type\"] = \"Cup\"\n",
    "df.loc[(df.competition.str.contains(\"Play-\")), \"game_type\"] = \"League Play-Off\"\n",
    "df.loc[(df.competition.str.contains(\"War League\")), 'game_type'] = \"War League\""
   ]
  },
  {
   "cell_type": "markdown",
   "metadata": {},
   "source": [
    "### Add `goal_diff`"
   ]
  },
  {
   "cell_type": "code",
   "execution_count": 5,
   "metadata": {},
   "outputs": [],
   "source": [
    "df['goal_diff'] = df.goals_for.astype(\"int\") - df.goals_against.astype(\"int\")"
   ]
  },
  {
   "cell_type": "markdown",
   "metadata": {},
   "source": [
    "### Add `ssn_game_no` and `ssn_comp_game_no`"
   ]
  },
  {
   "cell_type": "code",
   "execution_count": 6,
   "metadata": {},
   "outputs": [],
   "source": [
    "df['ssn_game_no'] = df.sort_values(by=['game_date']).groupby(['season']).cumcount() + 1\n",
    "df['ssn_comp_game_no'] = df.sort_values(by=['game_date']).groupby(['season', 'competition']).cumcount() + 1"
   ]
  },
  {
   "cell_type": "markdown",
   "metadata": {},
   "source": [
    "### Add `weekday`"
   ]
  },
  {
   "cell_type": "code",
   "execution_count": 7,
   "metadata": {},
   "outputs": [],
   "source": [
    "df['weekday'] = pd.to_datetime(df.game_date).dt.day_name()"
   ]
  },
  {
   "cell_type": "markdown",
   "metadata": {},
   "source": [
    "### Add `manager`"
   ]
  },
  {
   "cell_type": "code",
   "execution_count": 8,
   "metadata": {},
   "outputs": [],
   "source": [
    "def find_manager_on_date(input_date):\n",
    "    input_date = pd.Timestamp(input_date)\n",
    "    try:\n",
    "        manager_index = managers_df.apply(lambda x : (input_date >= x.manager_start_date) & (input_date <= x.manager_end_date), axis = 1)\n",
    "        manager = managers_df[manager_index]['manager_name'].squeeze()\n",
    "    except:\n",
    "        manager = 'Unknown'\n",
    "    return manager\n",
    "\n",
    "managers_df = pd.read_html(\"https://www.soccerbase.com/teams/team.sd?team_id=2598&teamTabs=managers\")[1].rename(columns = {\"Unnamed: 0\": \"manager_name\", \"FROM\": \"manager_start_date\", \"TO\": \"manager_end_date\"})\n",
    "managers_df.manager_start_date = pd.to_datetime(managers_df.manager_start_date)\n",
    "managers_df.manager_end_date = managers_df.apply(lambda x: pd.to_datetime(\"today\") if x.manager_end_date == \"Present\" else pd.to_datetime(x.manager_end_date), axis=1)\n",
    "\n",
    "df['manager'] = df.apply(lambda row : find_manager_on_date(row.game_date), axis = 1)"
   ]
  },
  {
   "cell_type": "markdown",
   "metadata": {},
   "source": [
    "### Change venue of all Wembley games to N(eutral)"
   ]
  },
  {
   "cell_type": "code",
   "execution_count": 9,
   "metadata": {},
   "outputs": [],
   "source": [
    "# Update venue of Wembley finals to \"N\" (Neutral)\n",
    "df.loc[df.stadium == \"Wembley Stadium\", \"venue\"] = \"N\""
   ]
  },
  {
   "cell_type": "markdown",
   "metadata": {},
   "source": [
    "# Make fixes to dataframe"
   ]
  },
  {
   "cell_type": "markdown",
   "metadata": {},
   "source": [
    "### Update `df` with attendances from `manual_attendances.csv`"
   ]
  },
  {
   "cell_type": "code",
   "execution_count": 10,
   "metadata": {},
   "outputs": [
    {
     "name": "stderr",
     "output_type": "stream",
     "text": [
      "/var/folders/sd/zs28d35963q5qq_thkg0gzx00000gn/T/ipykernel_6244/1115283859.py:18: FutureWarning: In a future version, `df.iloc[:, i] = newvals` will attempt to set the values inplace instead of always setting a new array. To retain the old behavior, use either `df[df.columns[i]] = newvals` or, if columns are non-unique, `df.isetitem(i, newvals)`\n",
      "  df.update(updates)\n"
     ]
    }
   ],
   "source": [
    "def update_attendance(game_date):\n",
    "    new_attendances = pd.read_csv(\"../data/manual_attendances.csv\", parse_dates=['game_date'])\n",
    "    new_attendance = new_attendances.query(\"game_date == @game_date\").attendance.values[0]\n",
    "    return new_attendance\n",
    "    \n",
    "# Read in manually collected attendances\n",
    "new_attendances = pd.read_csv(\"../data/manual_attendances.csv\", parse_dates=['game_date'])\n",
    "new_attendances = new_attendances[~new_attendances.attendance.isna()]\n",
    "\n",
    "# Filter df for games that will be updated from new_attendances df\n",
    "# This is necessary to make the length of both dataframes match\n",
    "updates = df[df.game_date.isin(new_attendances.game_date)].copy()\n",
    "\n",
    "# Insert the attendance for rows where the game_date is in both dataframes\n",
    "updates.attendance = updates.apply(lambda x: update_attendance(x.game_date), axis=1)\n",
    "\n",
    "# Update the original df with our freshly updated updates df\n",
    "df.update(updates)"
   ]
  },
  {
   "cell_type": "markdown",
   "metadata": {},
   "source": [
    "### Update `df` with manager fixes from `manager_updates.csv`"
   ]
  },
  {
   "cell_type": "code",
   "execution_count": 11,
   "metadata": {},
   "outputs": [
    {
     "name": "stderr",
     "output_type": "stream",
     "text": [
      "/var/folders/sd/zs28d35963q5qq_thkg0gzx00000gn/T/ipykernel_6244/106529563.py:12: FutureWarning: In a future version, `df.iloc[:, i] = newvals` will attempt to set the values inplace instead of always setting a new array. To retain the old behavior, use either `df[df.columns[i]] = newvals` or, if columns are non-unique, `df.isetitem(i, newvals)`\n",
      "  df.update(man_updates)\n"
     ]
    }
   ],
   "source": [
    "# Read in manual manager updates\n",
    "new_managers = pd.read_csv(\"../data/manager_updates.csv\", parse_dates=['game_date'])\n",
    "\n",
    "# Filter df for games that will be updated from new_managers df\n",
    "# This is necessary to make the length of both dataframes match\n",
    "man_updates = df[df.game_date.isin(new_managers.game_date)].copy()\n",
    "\n",
    "# Insert the manager names for rows where the game_date is in both dataframes\n",
    "man_updates.manager = new_managers[new_managers.game_date.isin(man_updates.game_date)].manager.values\n",
    "\n",
    "# Update the original df with our freshly updated man_updates df\n",
    "df.update(man_updates)"
   ]
  },
  {
   "cell_type": "markdown",
   "metadata": {},
   "source": [
    "### Update `df` with result fixes from `manual_results`"
   ]
  },
  {
   "cell_type": "code",
   "execution_count": 12,
   "metadata": {},
   "outputs": [
    {
     "name": "stderr",
     "output_type": "stream",
     "text": [
      "/var/folders/sd/zs28d35963q5qq_thkg0gzx00000gn/T/ipykernel_6244/3204570287.py:16: FutureWarning: In a future version, `df.iloc[:, i] = newvals` will attempt to set the values inplace instead of always setting a new array. To retain the old behavior, use either `df[df.columns[i]] = newvals` or, if columns are non-unique, `df.isetitem(i, newvals)`\n",
      "  df.update(res_updates)\n"
     ]
    }
   ],
   "source": [
    "# Read in manual result updates\n",
    "new_results = pd.read_csv(\"../data/manual_results.csv\", parse_dates=['game_date'])\n",
    "\n",
    "# Filter df for games that will be updated from manual_results df\n",
    "# This is necessary to make the length of both dataframes match\n",
    "res_updates = df[df.game_date.isin(new_results.game_date)].copy()\n",
    "\n",
    "# Insert the score and relevant stats for rows where the game_date is in both dataframes\n",
    "res_updates.score = new_results[new_results.game_date.isin(res_updates.game_date)].score.values\n",
    "\n",
    "res_updates.away_goals = new_results[new_results.game_date.isin(res_updates.game_date)].away_goals.values\n",
    "\n",
    "res_updates.goals_for = new_results[new_results.game_date.isin(res_updates.game_date)].goals_for.values\n",
    "\n",
    "# Update the original df with our freshly updated updates df\n",
    "df.update(res_updates)"
   ]
  },
  {
   "cell_type": "markdown",
   "metadata": {},
   "source": [
    "### Update `df` with date fixes from `manual_dates`"
   ]
  },
  {
   "cell_type": "code",
   "execution_count": 13,
   "metadata": {},
   "outputs": [
    {
     "name": "stderr",
     "output_type": "stream",
     "text": [
      "/var/folders/sd/zs28d35963q5qq_thkg0gzx00000gn/T/ipykernel_6244/2581626107.py:12: FutureWarning: In a future version, `df.iloc[:, i] = newvals` will attempt to set the values inplace instead of always setting a new array. To retain the old behavior, use either `df[df.columns[i]] = newvals` or, if columns are non-unique, `df.isetitem(i, newvals)`\n",
      "  df.update(date_updates)\n"
     ]
    }
   ],
   "source": [
    "# Read in manual manager updates\n",
    "new_dates = pd.read_csv(\"../data/manual_dates.csv\", parse_dates=['game_date', 'game_date_correct'])\n",
    "\n",
    "# Filter df for games that will be updated from manual_results df\n",
    "# This is necessary to make the length of both dataframes match\n",
    "date_updates = df[df.game_date.isin(new_dates.game_date)].copy()\n",
    "\n",
    "# Insert the score and relevant stats for rows where the game_date is in both dataframes\n",
    "date_updates.game_date = new_dates[new_dates.game_date.isin(date_updates.game_date)].game_date_correct.values\n",
    "\n",
    "# Update the original df with our freshly updated updates df\n",
    "df.update(date_updates)\n",
    "\n",
    "# Sort df by game_date as corrected date changes order\n",
    "df = df.sort_values(\"game_date\", ascending=False, ignore_index=True)"
   ]
  },
  {
   "cell_type": "markdown",
   "metadata": {},
   "source": [
    "### Update df with name fixes from `manual_team_names`"
   ]
  },
  {
   "cell_type": "code",
   "execution_count": 14,
   "metadata": {},
   "outputs": [
    {
     "name": "stderr",
     "output_type": "stream",
     "text": [
      "/var/folders/sd/zs28d35963q5qq_thkg0gzx00000gn/T/ipykernel_6244/839056968.py:14: FutureWarning: In a future version, `df.iloc[:, i] = newvals` will attempt to set the values inplace instead of always setting a new array. To retain the old behavior, use either `df[df.columns[i]] = newvals` or, if columns are non-unique, `df.isetitem(i, newvals)`\n",
      "  df.update(updates)\n"
     ]
    }
   ],
   "source": [
    "# Read in manual team names\n",
    "new_names = pd.read_csv(\"../data/manual_team_names.csv\")\n",
    "\n",
    "# Temporarily add the new names to the df\n",
    "df = pd.merge(left=df, right=new_names, left_on=\"opposition\", right_on=\"old_name\", how=\"left\")\n",
    "\n",
    "# Filter for records involving opponent with wrong team name in df\n",
    "updates = df[~df.new_name.isna()].copy()\n",
    "\n",
    "# Transfer new_name to oppositionn field\n",
    "updates.opposition = updates.new_name\n",
    "\n",
    "# Update main df with updated names\n",
    "df.update(updates)\n",
    "\n",
    "# Drop the temporary old_name and new_name fields\n",
    "df = df.drop([\"old_name\", \"new_name\"], axis=1)\n",
    "\n",
    "# Update team names in home_team and away_team to reflect updated name changes\n",
    "df.loc[df.venue == \"H\", \"home_team\"] = \"Tranmere Rovers\"\n",
    "df.loc[df.venue == \"H\", \"away_team\"] = df.opposition\n",
    "df.loc[df.venue == \"A\", \"home_team\"] = df.opposition\n",
    "df.loc[df.venue == \"A\", \"away_team\"] = \"Tranmere Rovers\"\n",
    "df.loc[df.venue == \"N\", \"home_team\"] = \"\"\n",
    "df.loc[df.venue == \"N\", \"away_team\"] = \"\""
   ]
  },
  {
   "cell_type": "markdown",
   "metadata": {},
   "source": [
    "### Update df with venue fixes from manual_venues"
   ]
  },
  {
   "cell_type": "code",
   "execution_count": 15,
   "metadata": {},
   "outputs": [
    {
     "name": "stderr",
     "output_type": "stream",
     "text": [
      "/var/folders/sd/zs28d35963q5qq_thkg0gzx00000gn/T/ipykernel_6244/794716400.py:12: FutureWarning: In a future version, `df.iloc[:, i] = newvals` will attempt to set the values inplace instead of always setting a new array. To retain the old behavior, use either `df[df.columns[i]] = newvals` or, if columns are non-unique, `df.isetitem(i, newvals)`\n",
      "  df.update(venue_updates)\n"
     ]
    }
   ],
   "source": [
    "# Read in manual venue updates\n",
    "new_venues = pd.read_csv(\"../data/manual_venues.csv\", parse_dates=['game_date'])\n",
    "\n",
    "# Filter df for games that will be updated from manual_venues df\n",
    "# This is necessary to make the length of both dataframes match\n",
    "venue_updates = df[df.game_date.isin(new_venues.game_date)].copy()\n",
    "\n",
    "# Insert the venue and relevant stats for rows where the game_date is in both dataframes\n",
    "venue_updates.venue = new_venues[new_venues.game_date.isin(venue_updates.game_date)].venue.values\n",
    "\n",
    "# Update the original df with our freshly updated updates df\n",
    "df.update(venue_updates)"
   ]
  },
  {
   "cell_type": "markdown",
   "metadata": {},
   "source": [
    "### Output fixed dataframe to `results_df.csv`"
   ]
  },
  {
   "cell_type": "code",
   "execution_count": 16,
   "metadata": {},
   "outputs": [],
   "source": [
    "df.to_csv(\"../output/results_df.csv\", index=False)"
   ]
  },
  {
   "cell_type": "code",
   "execution_count": null,
   "metadata": {},
   "outputs": [],
   "source": []
  }
 ],
 "metadata": {
  "kernelspec": {
   "display_name": "lede_program",
   "language": "python",
   "name": "lede_program"
  },
  "language_info": {
   "codemirror_mode": {
    "name": "ipython",
    "version": 3
   },
   "file_extension": ".py",
   "mimetype": "text/x-python",
   "name": "python",
   "nbconvert_exporter": "python",
   "pygments_lexer": "ipython3",
   "version": "3.10.3"
  },
  "vscode": {
   "interpreter": {
    "hash": "138b44c4bbb43d7068f3ee17872f2356acbf191bd0a12eb6d4bde093c6a2c91f"
   }
  }
 },
 "nbformat": 4,
 "nbformat_minor": 2
}
