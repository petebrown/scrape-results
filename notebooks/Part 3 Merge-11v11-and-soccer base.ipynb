{
 "cells": [
  {
   "cell_type": "markdown",
   "metadata": {},
   "source": [
    "# Combine results from 11v11 (Football League) and Soccerbase (Non-League)"
   ]
  },
  {
   "cell_type": "code",
   "execution_count": 13,
   "metadata": {},
   "outputs": [],
   "source": [
    "import pandas as pd\n",
    "\n",
    "# Import results from 11v11\n",
    "df_1 = pd.read_csv(\"../data/11v11_results.csv\", parse_dates=[\"game_date\"])\n",
    "df_1 = df_1[~df_1.season.isin([\"2015/16\", \"2016/17\", \"2017/18\"])]\n",
    "\n",
    "# Import National League results from Soccerbase\n",
    "df_2 = pd.read_csv(\"../data/soccerbase_nat_league_results.csv\", parse_dates=[\"game_date\"])\n",
    "\n",
    "# Merge both datasets\n",
    "df = pd.concat([df_1, df_2]).sort_values(\"game_date\", ascending=False).reset_index(drop=True)"
   ]
  },
  {
   "cell_type": "markdown",
   "metadata": {},
   "source": [
    "### Add `league_tier`"
   ]
  },
  {
   "cell_type": "code",
   "execution_count": 14,
   "metadata": {},
   "outputs": [],
   "source": [
    "league_tier_map = {\n",
    "        'National League': 5,\n",
    "        'Football Conference Play-off': 5,\n",
    "        'League Two': 4,\n",
    "        'League Two Play-Offs': 4,\n",
    "        'League Division Four': 4,\n",
    "        'League One': 3,\n",
    "        'League One Play-Offs': 3,\n",
    "        'League Division 2': 3,\n",
    "        'League Division Three': 3,\n",
    "        'League Division Three Play-Offs': 3,\n",
    "        'Division Three (North)': 3,\n",
    "        'League Division 1': 2,\n",
    "        'League Division 1 Play-Offs': 2,\n",
    "        'League Division Two': 2,\n",
    "    }\n",
    "\n",
    "df['league_tier'] = df.competition.map(league_tier_map)"
   ]
  },
  {
   "cell_type": "markdown",
   "metadata": {},
   "source": [
    "### Add `generic_comps_map`"
   ]
  },
  {
   "cell_type": "code",
   "execution_count": 15,
   "metadata": {},
   "outputs": [],
   "source": [
    "generic_comps_map = {\n",
    "    \"Anglo-Italian Cup\": \"Anglo-Italian Cup\",\n",
    "    'Associate Members Cup': \"Associate Members' Cup\",\n",
    "    'Freight Rover Trophy': \"Associate Members' Cup\", \n",
    "    'Sherpa Vans Trophy': \"Associate Members' Cup\", \n",
    "    'Leyland Daf Cup': \"Associate Members' Cup\", \n",
    "    'LDV Vans Trophy': \"Associate Members' Cup\", \n",
    "    'Johnstones Paint Trophy': \"Associate Members' Cup\",\n",
    "    'Football League Trophy': \"Associate Members' Cup\",\n",
    "    \"FA Cup\": \"FA Cup\",\n",
    "    \"FA Trophy\": \"FA Trophy\",\n",
    "    \"Zenith Data Systems Cup\": \"Full Members' Cup\",\n",
    "    \"Division Three (North)\": \"Football League\",\n",
    "    \"League Division 1\": \"Football League\",\n",
    "    \"League Division 1 Play-Offs\": \"Football League\",\n",
    "    \"League Division 2\": \"Football League\",\n",
    "    \"League Division Four\": \"Football League\",\n",
    "    \"League Division Three\": \"Football League\",\n",
    "    \"League Division Three Play-Offs\": \"Football League\",\n",
    "    \"League Division Two\": \"Football League\",\n",
    "    \"League One\": \"Football League\",\n",
    "    \"League One Play-Offs\": \"Football League\",\n",
    "    \"League Two\": \"Football League\",\n",
    "    \"League Two Play-Offs\": \"Football League\",\n",
    "    \"League Cup\": \"League Cup\",\n",
    "    \"Football Conference Play-off\": \"Non-League\",\n",
    "    \"National League\": \"Non-League\",\n",
    "    \"North Region War League\": \"War League\",\n",
    "    \"North Region War League (Second Championship)\": \"War League\",\n",
    "    \"West Region War League\": \"War League\"\n",
    "}\n",
    "\n",
    "df['generic_comp'] = df.competition.map(generic_comps_map)"
   ]
  },
  {
   "cell_type": "markdown",
   "metadata": {},
   "source": [
    "### Add `game_type`"
   ]
  },
  {
   "cell_type": "code",
   "execution_count": 16,
   "metadata": {},
   "outputs": [],
   "source": [
    "df.loc[(df.generic_comp.isin([\"Football League\", \"Non-League\"])), \"game_type\"] = \"League\"\n",
    "df.loc[((df.league_tier.isna()) & (~df.competition.str.contains(\"War League\"))), \"game_type\"] = \"Cup\"\n",
    "df.loc[(df.competition.str.contains(\"Play-\")), \"game_type\"] = \"League Play-Off\"\n",
    "df.loc[(df.competition.str.contains(\"War League\")), 'game_type'] = \"War League\""
   ]
  },
  {
   "cell_type": "markdown",
   "metadata": {},
   "source": [
    "### Add `goal_diff`"
   ]
  },
  {
   "cell_type": "code",
   "execution_count": 17,
   "metadata": {},
   "outputs": [],
   "source": [
    "df['goal_diff'] = df.goals_for.astype(\"int\") - df.goals_against.astype(\"int\")"
   ]
  },
  {
   "cell_type": "markdown",
   "metadata": {},
   "source": [
    "### Add `ssn_game_no` and `ssn_comp_game_no`"
   ]
  },
  {
   "cell_type": "code",
   "execution_count": 18,
   "metadata": {},
   "outputs": [],
   "source": [
    "df['ssn_game_no'] = df.sort_values(by=['game_date']).groupby(['season']).cumcount() + 1\n",
    "df['ssn_comp_game_no'] = df.sort_values(by=['game_date']).groupby(['season', 'competition']).cumcount() + 1"
   ]
  },
  {
   "cell_type": "markdown",
   "metadata": {},
   "source": [
    "### Add `weekday`"
   ]
  },
  {
   "cell_type": "code",
   "execution_count": 19,
   "metadata": {},
   "outputs": [],
   "source": [
    "df['weekday'] = pd.to_datetime(df.game_date).dt.day_name()"
   ]
  },
  {
   "cell_type": "markdown",
   "metadata": {},
   "source": [
    "### Add `manager`"
   ]
  },
  {
   "cell_type": "code",
   "execution_count": 20,
   "metadata": {},
   "outputs": [],
   "source": [
    "def find_manager_on_date(input_date):\n",
    "    input_date = pd.Timestamp(input_date)\n",
    "    try:\n",
    "        manager_index = managers_df.apply(lambda x : (input_date >= x.manager_start_date) & (input_date <= x.manager_end_date), axis = 1)\n",
    "        manager = managers_df[manager_index]['manager_name'].iloc[0]\n",
    "    except:\n",
    "        manager = 'Unknown'\n",
    "    return manager\n",
    "\n",
    "# managers_df = pd.read_csv('../../scrape-managers/data/managers_df.csv')\n",
    "# managers_df.manager_start_date = pd.to_datetime(managers_df.manager_start_date)\n",
    "# managers_df.manager_end_date = pd.to_datetime(managers_df.manager_end_date)\n",
    "\n",
    "managers_df = pd.read_html(\"https://www.soccerbase.com/teams/team.sd?team_id=2598&teamTabs=managers\")[1].rename(columns = {\"Unnamed: 0\": \"manager_name\", \"FROM\": \"manager_start_date\", \"TO\": \"manager_end_date\"})\n",
    "managers_df.manager_start_date = pd.to_datetime(managers_df.manager_start_date)\n",
    "managers_df.manager_end_date = managers_df.apply(lambda x: pd.to_datetime(\"today\") if x.manager_end_date == \"Present\" else pd.to_datetime(x.manager_end_date), axis=1)\n",
    "\n",
    "df['manager'] = df.apply(lambda row : find_manager_on_date(row.game_date), axis = 1)"
   ]
  },
  {
   "cell_type": "markdown",
   "metadata": {},
   "source": [
    "### Change venue of all Wembley games to N(eutral)"
   ]
  },
  {
   "cell_type": "code",
   "execution_count": 21,
   "metadata": {},
   "outputs": [],
   "source": [
    "# Update venue of Wembley finals to \"N\" (Neutral)\n",
    "df.loc[df.stadium == \"Wembley Stadium\", \"venue\"] = \"N\""
   ]
  },
  {
   "cell_type": "markdown",
   "metadata": {},
   "source": [
    "# Make fixes to dataframe"
   ]
  },
  {
   "cell_type": "markdown",
   "metadata": {},
   "source": [
    "### Update `df` with attendances from `manual_attendances.csv`"
   ]
  },
  {
   "cell_type": "code",
   "execution_count": 22,
   "metadata": {},
   "outputs": [],
   "source": [
    "# Read in manually collected attendances\n",
    "new_attendances = pd.read_csv(\"../data/manual_attendances.csv\", parse_dates=['game_date'])\n",
    "new_attendances = new_attendances[~new_attendances.attendance.isna()]\n",
    "\n",
    "# Filter df for games that will be updated from new_attendances df\n",
    "# This is necessary to make the length of both dataframes match\n",
    "updates = df[df.game_date.isin(new_attendances.game_date)].copy()\n",
    "\n",
    "# Insert the attendance for rows where the game_date is in both dataframes\n",
    "updates.attendance = new_attendances[new_attendances.game_date.isin(updates.game_date)].attendance.values\n",
    "\n",
    "# Update the original df with our freshly updated updates df\n",
    "df.update(updates)"
   ]
  },
  {
   "cell_type": "markdown",
   "metadata": {},
   "source": [
    "### Update `df` with manager fixes from `manager_updates.csv`"
   ]
  },
  {
   "cell_type": "code",
   "execution_count": 23,
   "metadata": {},
   "outputs": [],
   "source": [
    "# Read in manual manager updates\n",
    "new_managers = pd.read_csv(\"../data/manager_updates.csv\", parse_dates=['game_date'])\n",
    "\n",
    "# Filter df for games that will be updated from new_managers df\n",
    "# This is necessary to make the length of both dataframes match\n",
    "man_updates = df[df.game_date.isin(new_managers.game_date)].copy()\n",
    "\n",
    "# Insert the manager naems for rows where the game_date is in both dataframes\n",
    "man_updates.manager = new_managers[new_managers.game_date.isin(man_updates.game_date)].manager.values\n",
    "\n",
    "# Update the original df with our freshly updated man_updates df\n",
    "df.update(man_updates)"
   ]
  },
  {
   "cell_type": "markdown",
   "metadata": {},
   "source": [
    "### Output fixed dataframe to `results_df.csv`"
   ]
  },
  {
   "cell_type": "code",
   "execution_count": 12,
   "metadata": {},
   "outputs": [],
   "source": [
    "df.to_csv(\"../output/results_df.csv\", index=False)"
   ]
  }
 ],
 "metadata": {
  "kernelspec": {
   "display_name": "lede_program",
   "language": "python",
   "name": "lede_program"
  },
  "language_info": {
   "codemirror_mode": {
    "name": "ipython",
    "version": 3
   },
   "file_extension": ".py",
   "mimetype": "text/x-python",
   "name": "python",
   "nbconvert_exporter": "python",
   "pygments_lexer": "ipython3",
   "version": "3.10.3"
  },
  "vscode": {
   "interpreter": {
    "hash": "138b44c4bbb43d7068f3ee17872f2356acbf191bd0a12eb6d4bde093c6a2c91f"
   }
  }
 },
 "nbformat": 4,
 "nbformat_minor": 2
}
