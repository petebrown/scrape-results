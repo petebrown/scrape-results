{
 "cells": [
  {
   "cell_type": "markdown",
   "metadata": {},
   "source": [
    "# Scrape National League results from Soccerbase (2015/16-2017/18)"
   ]
  },
  {
   "cell_type": "code",
   "execution_count": 11,
   "metadata": {},
   "outputs": [],
   "source": [
    "from bs4 import BeautifulSoup\n",
    "import pandas as pd\n",
    "import requests\n",
    "\n",
    "headers = {\n",
    "    \"user-agent\": \"Mozilla/5.0 (Macintosh; Intel Mac OS X 10_15_7) AppleWebKit/537.36 (KHTML, like Gecko) Chrome/104.0.5112.102 Safari/537.36\"\n",
    "    }\n",
    "season_ids = [\"145\", \"149\", \"150\"]\n",
    "\n",
    "results = []\n",
    "for season_id in season_ids:\n",
    "    url = f\"https://www.soccerbase.com/teams/results.sd?season_id={season_id}&team_id=2598&teamTabs=results&_=1660927413898\"\n",
    "    \n",
    "    r = requests.get(url)\n",
    "    doc = BeautifulSoup(r.content)\n",
    "\n",
    "    season_years = doc.select_one(\".seasonSelector h3\").text\n",
    "\n",
    "    matches = doc.select(\".soccerGrid tbody tr.match\")\n",
    "    \n",
    "    for match in matches:\n",
    "        columns = match.select(\"td\")\n",
    "\n",
    "        competition = match.select_one(\".tournament span\").previousSibling.text.strip()\n",
    "        \n",
    "        game_date = match.select_one(\".dateTime a\")['href'].split(\"=\")[1]\n",
    "\n",
    "        home_team = match.select_one(\".homeTeam a\").text\n",
    "\n",
    "        away_team = match.select_one(\".awayTeam a\").text\n",
    "            \n",
    "        goals = match.select(\".score em\")\n",
    "        \n",
    "        home_goals = int(goals[0].text)\n",
    "        away_goals = int(goals[1].text)\n",
    "\n",
    "        if home_team == \"Tranmere\":\n",
    "            home_team = \"Tranmere Rovers\"\n",
    "            opposition = away_team\n",
    "            venue = \"H\"\n",
    "            goals_for = home_goals\n",
    "            goals_against = away_goals\n",
    "            stadium = \"Prenton Park\"\n",
    "        else:\n",
    "            away_team = \"Tranmere Rovers\"\n",
    "            opposition = home_team\n",
    "            venue = \"A\"\n",
    "            goals_for = away_goals\n",
    "            goals_against = home_goals\n",
    "            stadium = \"\"\n",
    "\n",
    "        score = f\"{goals_for}-{goals_against}\"\n",
    "\n",
    "        if goals_for > goals_against:\n",
    "            outcome = \"W\"\n",
    "        elif goals_for == goals_against:\n",
    "            outcome = \"D\"\n",
    "        else:\n",
    "            outcome = \"L\"\n",
    "        \n",
    "        neutral_venue = match.select_one(\".neutralVenues\")\n",
    "        if neutral_venue:\n",
    "            venue = neutral_venue.text.strip()\n",
    "            stadium = neutral_venue['title'].replace(\"Wembley\", 'Wembley Stadium')\n",
    "        \n",
    "        game_record = {\n",
    "            \"season\": season_years,\n",
    "            \"game_date\": game_date,\n",
    "            \"opposition\": opposition,\n",
    "            \"venue\": venue,\n",
    "            \"score\": score,\n",
    "            \"home_team\": home_team,\n",
    "            \"away_team\": away_team,\n",
    "            \"outcome\": outcome,\n",
    "            \"home_goals\": home_goals,\n",
    "            \"away_goals\": away_goals,\n",
    "            \"secondary_score\": \"\",\n",
    "            \"competition\": competition,\n",
    "            \"goals_for\": goals_for,\n",
    "            \"goals_against\": goals_against,\n",
    "            \"source_url\": url,\n",
    "            \"stadium\": stadium\n",
    "        }\n",
    "\n",
    "        results.append(game_record)\n",
    "\n",
    "df = pd.DataFrame(results)\n",
    "df.game_date = pd.to_datetime(df.game_date)"
   ]
  },
  {
   "cell_type": "markdown",
   "metadata": {},
   "source": [
    "### Read in `national_league_attendances.csv` and join `attendance` to `df`"
   ]
  },
  {
   "cell_type": "code",
   "execution_count": 12,
   "metadata": {},
   "outputs": [],
   "source": [
    "attendances = pd.read_csv(\"../data/national_league_attendances.csv\", parse_dates=['game_date'])\n",
    "df = df.merge(attendances, on=\"game_date\")"
   ]
  },
  {
   "cell_type": "markdown",
   "metadata": {},
   "source": [
    "### Output `df` to CSV"
   ]
  },
  {
   "cell_type": "code",
   "execution_count": 13,
   "metadata": {},
   "outputs": [],
   "source": [
    "df.to_csv(\"../data/soccerbase_nat_league_results.csv\", index=False)"
   ]
  },
  {
   "cell_type": "code",
   "execution_count": null,
   "metadata": {},
   "outputs": [],
   "source": []
  }
 ],
 "metadata": {
  "kernelspec": {
   "display_name": "lede_program",
   "language": "python",
   "name": "lede_program"
  },
  "language_info": {
   "codemirror_mode": {
    "name": "ipython",
    "version": 3
   },
   "file_extension": ".py",
   "mimetype": "text/x-python",
   "name": "python",
   "nbconvert_exporter": "python",
   "pygments_lexer": "ipython3",
   "version": "3.10.3"
  },
  "orig_nbformat": 4
 },
 "nbformat": 4,
 "nbformat_minor": 2
}
